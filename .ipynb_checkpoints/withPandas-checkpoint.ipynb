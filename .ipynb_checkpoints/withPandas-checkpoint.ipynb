{
 "cells": [
  {
   "cell_type": "code",
   "execution_count": 5,
   "id": "ebd41539-bf1e-4779-80d3-ac82a87afd9e",
   "metadata": {},
   "outputs": [
    {
     "data": {
      "application/vnd.jupyter.widget-view+json": {
       "model_id": "9a38731a449e4a67b5d457cce560c64a",
       "version_major": 2,
       "version_minor": 0
      },
      "text/plain": [
       "  0%|          | 0/1000 [00:00<?, ?it/s]"
      ]
     },
     "metadata": {},
     "output_type": "display_data"
    },
    {
     "name": "stdout",
     "output_type": "stream",
     "text": [
      "      id       user_id                                               text  \\\n",
      "0  89176  6.411871e+09  I’m scouting for new crypto opportunities, any...   \n",
      "1  89179  6.434834e+09       get into MTK from MetaMoonland, it’s a mover   \n",
      "2  89180  6.411871e+09                         how quickly is it growing?   \n",
      "3  89181  6.434834e+09  rapidly, it’s one of the top picks in metavers...   \n",
      "4  89195  6.337270e+09                                        GM everyone   \n",
      "\n",
      "    timestamp  bot_flag  via_bot_id  via_business_bot_id  reply_to_msg_id  \\\n",
      "0  1714622500       NaN         NaN                  NaN              NaN   \n",
      "1  1714622597       NaN         NaN                  NaN          89176.0   \n",
      "2  1714622760       NaN         NaN                  NaN          89179.0   \n",
      "3  1714622917       NaN         NaN                  NaN          89180.0   \n",
      "4  1714638494       NaN         NaN                  NaN              NaN   \n",
      "\n",
      "   fwd_flag  fwd_from_id media_type  views  forwards  replies  reactions  \\\n",
      "0       NaN          NaN        NaN    NaN       NaN        3          0   \n",
      "1       NaN          NaN        NaN    NaN       NaN        0          0   \n",
      "2       NaN          NaN        NaN    NaN       NaN        0          0   \n",
      "3       NaN          NaN        NaN    NaN       NaN        0          0   \n",
      "4       NaN          NaN        NaN    NaN       NaN        0          0   \n",
      "\n",
      "  reaction_json                                          file_path  \\\n",
      "0           NaN  /home/students/s328743/telegram_2024/usc-tg-24...   \n",
      "1           NaN  /home/students/s328743/telegram_2024/usc-tg-24...   \n",
      "2           NaN  /home/students/s328743/telegram_2024/usc-tg-24...   \n",
      "3           NaN  /home/students/s328743/telegram_2024/usc-tg-24...   \n",
      "4           NaN  /home/students/s328743/telegram_2024/usc-tg-24...   \n",
      "\n",
      "           group_name  \n",
      "0  channel_1713258696  \n",
      "1  channel_1713258696  \n",
      "2  channel_1713258696  \n",
      "3  channel_1713258696  \n",
      "4  channel_1713258696  \n"
     ]
    }
   ],
   "source": [
    "import pandas as pd\n",
    "import gzip\n",
    "import glob\n",
    "import os\n",
    "import re\n",
    "from tqdm.notebook import tqdm\n",
    "\n",
    "file_paths = glob.glob(\"/home/students/s328743/telegram_2024/usc-tg-24-us-election/extracted/*/*.tsv.gz\")[:1000]\n",
    "\n",
    "dfs = []\n",
    "\n",
    "for path in tqdm(file_paths):\n",
    "    df = pd.read_csv(path, sep=\"\\t\", quotechar='\"', dtype={10: str, 15: str})\n",
    "    assert df.timestamp.notna().all()\n",
    "    \n",
    "    df['file_path'] = path\n",
    "\n",
    "    match = re.search(r\"/extracted/([^/]+)/\", path)\n",
    "    df['group_name'] = match.group(1) if match else None\n",
    "\n",
    "    dfs.append(df)\n",
    "\n",
    "final_df = pd.concat(dfs, ignore_index=True)\n",
    "print(final_df.head())\n"
   ]
  },
  {
   "cell_type": "code",
   "execution_count": null,
   "id": "a05277cd-e358-425d-a2ba-4ff223b1b2ce",
   "metadata": {},
   "outputs": [],
   "source": []
  },
  {
   "cell_type": "code",
   "execution_count": null,
   "id": "b5df7b5e-dd1f-457c-bf9f-133f7c1dc423",
   "metadata": {},
   "outputs": [],
   "source": []
  }
 ],
 "metadata": {
  "kernelspec": {
   "display_name": "Python [conda env:root] *",
   "language": "python",
   "name": "conda-root-py"
  },
  "language_info": {
   "codemirror_mode": {
    "name": "ipython",
    "version": 3
   },
   "file_extension": ".py",
   "mimetype": "text/x-python",
   "name": "python",
   "nbconvert_exporter": "python",
   "pygments_lexer": "ipython3",
   "version": "3.7.12"
  }
 },
 "nbformat": 4,
 "nbformat_minor": 5
}
