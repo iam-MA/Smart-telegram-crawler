{
 "cells": [
  {
   "cell_type": "code",
   "execution_count": 1,
   "id": "7001ad7f-b5d1-45a0-a646-b10316fe04be",
   "metadata": {},
   "outputs": [
    {
     "name": "stdout",
     "output_type": "stream",
     "text": [
      "Fist Nodes\n",
      "------------------------------\n",
      "\n",
      "        type_and_id              token                      parent          \n",
      "0    channel_2036421633               trump2024e         [keyword] Trump2024\n",
      "1    channel_2178554925  biden_has_left_the_chat             [keyword] Biden\n",
      "2    channel_2095394414             speech_biden      [keyword] Joseph Biden\n",
      "3    channel_2202860593       republicanpartyeth  [keyword] Republican party\n",
      "4    channel_2157448164      republican_partysol  [keyword] Republican party\n",
      "..                  ...                      ...                         ...\n",
      "279  channel_2120515309          third_party_the       [keyword] Third Party\n",
      "280  channel_2230714331            jillsteincoin        [keyword] Jill Stein\n",
      "281  channel_2178147619          jillsteinportal        [keyword] Jill Stein\n",
      "282  channel_2215302316              walzoportal          [keyword] Tim Walz\n",
      "283  channel_2150743684                  timwalz          [keyword] Tim Walz\n",
      "\n",
      "[284 rows x 3 columns]\n",
      "Discovery edges\n",
      "-----------------------------------\n",
      "\n",
      "            type_and_id            parent          timestamp \n",
      "0        channel_1306559115  channel_1840578235  1.722586e+09\n",
      "1        channel_2036850729  channel_1840578235  1.722586e+09\n",
      "2        channel_1941222046  channel_1840578235  1.722586e+09\n",
      "3        channel_1749991917  channel_1840578235  1.722586e+09\n",
      "4        channel_1581117699  channel_1840578235  1.722586e+09\n",
      "...                     ...                 ...           ...\n",
      "2269988  channel_1405113137  channel_1393740221  1.730459e+09\n",
      "2269989  channel_1612670983  channel_1365566428  1.730461e+09\n",
      "2269990  channel_1888223838  channel_1365566428  1.730461e+09\n",
      "2269991  channel_1621310962  channel_1365566428  1.730461e+09\n",
      "2269992  channel_1981841172  channel_1361056665  1.730463e+09\n",
      "\n",
      "[2269993 rows x 3 columns]\n",
      "Chats.db\n",
      "-----------------------------------\n",
      "\n",
      "            type_and_id                  token                      parent          timestamp \n",
      "0                      None           [keyword] thedemocrats                None  1.722583e+09\n",
      "1                      None  [keyword] makeamericagreatagain                None  1.722583e+09\n",
      "2                      None                   [keyword] MAGA                None  1.722583e+09\n",
      "3                      None            [keyword] Nikki Haley                None  1.722583e+09\n",
      "4                      None  [keyword] Robert F. Kennedy Jr.                None  1.722583e+09\n",
      "...                     ...                              ...                 ...           ...\n",
      "2726013  channel_2012938189                             None  channel_1360389456  1.730463e+09\n",
      "2726014  channel_1422283870                             None  channel_1360389456  1.730463e+09\n",
      "2726015  channel_2045668301                             None  channel_1360389456  1.730463e+09\n",
      "2726016  channel_2099434890                             None  channel_1360389456  1.730463e+09\n",
      "2726017  channel_2065272575                             None  channel_1360389456  1.730463e+09\n",
      "\n",
      "[2726018 rows x 4 columns]\n"
     ]
    }
   ],
   "source": [
    "import pandas as pd\n",
    "import sqlite3\n",
    "import pandas as pd\n",
    "\n",
    "chats_db_path = \"/home/students/s328743/telegram_2024/usc-tg-24-us-election/chats.db\"\n",
    "csv_path_first_nodes = \"/home/students/s328743/Thesis/first_nodes.csv.gz\"\n",
    "csv_path_discovery_edges = \"/home/students/s328743/Thesis/discovery_edges.csv.gz\"\n",
    "\n",
    "conn = sqlite3.connect(chats_db_path)\n",
    "df_chats = pd.read_sql(\"SELECT * FROM chats\", conn)\n",
    "df_first_nodes = pd.read_csv(csv_path_first_nodes, compression='gzip')\n",
    "df_discovery_edges = pd.read_csv(csv_path_discovery_edges, compression='gzip')\n",
    "\n",
    "pd.set_option('display.max_rows', 200)\n",
    "pd.set_option('display.max_columns', 20)\n",
    "pd.set_option('display.width', 200)\n",
    "pd.set_option('display.colheader_justify', 'center')\n",
    "pd.set_option('display.expand_frame_repr', False)\n",
    "\n",
    "print(\"Fist Nodes\\n------------------------------\\n\")\n",
    "print(df_first_nodes)\n",
    "print(\"Discovery edges\\n-----------------------------------\\n\")\n",
    "print(df_discovery_edges)\n",
    "print(\"Chats.db\\n-----------------------------------\\n\")\n",
    "print(df_chats)"
   ]
  },
  {
   "cell_type": "code",
   "execution_count": null,
   "id": "7269fc32-3112-43f2-9f75-d671f95cb03c",
   "metadata": {},
   "outputs": [],
   "source": []
  },
  {
   "cell_type": "code",
   "execution_count": null,
   "id": "58e3b78b-3dd7-4aaf-8609-756b1be95cd7",
   "metadata": {},
   "outputs": [],
   "source": []
  },
  {
   "cell_type": "code",
   "execution_count": null,
   "id": "5c4e3dd4-1971-4bcc-b739-9733078f6e25",
   "metadata": {},
   "outputs": [],
   "source": []
  },
  {
   "cell_type": "code",
   "execution_count": null,
   "id": "22986043-03a8-4046-a128-f3022355fe6a",
   "metadata": {},
   "outputs": [],
   "source": []
  },
  {
   "cell_type": "code",
   "execution_count": null,
   "id": "50a2856e-e983-4463-bf6f-92345f8df029",
   "metadata": {},
   "outputs": [],
   "source": []
  },
  {
   "cell_type": "code",
   "execution_count": null,
   "id": "062c61d4-6753-41d2-a3da-3d4f968041f0",
   "metadata": {},
   "outputs": [],
   "source": []
  },
  {
   "cell_type": "code",
   "execution_count": null,
   "id": "792e5819-3702-47ea-994a-d6b356989aa6",
   "metadata": {},
   "outputs": [],
   "source": []
  },
  {
   "cell_type": "code",
   "execution_count": null,
   "id": "11ef006d-2e3a-42a1-96ff-c3ec8d4f8548",
   "metadata": {},
   "outputs": [],
   "source": []
  }
 ],
 "metadata": {
  "kernelspec": {
   "display_name": "Python [conda env:root] *",
   "language": "python",
   "name": "conda-root-py"
  },
  "language_info": {
   "codemirror_mode": {
    "name": "ipython",
    "version": 3
   },
   "file_extension": ".py",
   "mimetype": "text/x-python",
   "name": "python",
   "nbconvert_exporter": "python",
   "pygments_lexer": "ipython3",
   "version": "3.7.12"
  }
 },
 "nbformat": 4,
 "nbformat_minor": 5
}
